{
  "nbformat": 4,
  "nbformat_minor": 0,
  "metadata": {
    "colab": {
      "provenance": []
    },
    "kernelspec": {
      "name": "python3",
      "display_name": "Python 3"
    },
    "language_info": {
      "name": "python"
    }
  },
  "cells": [
    {
      "cell_type": "markdown",
      "source": [
        "If you ever get stuck, check out this article for hints or tricks: https://www.pycodemates.com/2022/05/iris-dataset-classification-with-python.html"
      ],
      "metadata": {
        "id": "kiGi5iyVngnl"
      }
    },
    {
      "cell_type": "code",
      "execution_count": null,
      "metadata": {
        "id": "pUHiDpICnexZ"
      },
      "outputs": [],
      "source": [
        "#load all your import statements"
      ]
    },
    {
      "cell_type": "code",
      "source": [
        "#load the data in (use data = load_iris(return_X_y=True), but you have to import the load_iris function from sklearn)"
      ],
      "metadata": {
        "id": "12nR_Q2DobVg"
      },
      "execution_count": null,
      "outputs": []
    },
    {
      "cell_type": "code",
      "source": [
        "#OPTIONAL: Visualize the data to get a better idea of what you're working with. This is usually the most important part,\n",
        "#but we're focused on the Ai so its fine for now."
      ],
      "metadata": {
        "id": "zjbeWMfzou8U"
      },
      "execution_count": null,
      "outputs": []
    },
    {
      "cell_type": "code",
      "source": [
        "#initialize your model (with \"model = SVM()\", for example)"
      ],
      "metadata": {
        "id": "GgKS9aFzoRFZ"
      },
      "execution_count": null,
      "outputs": []
    },
    {
      "cell_type": "code",
      "source": [
        "#train the model\n",
        "#use \"model.fit(x_train, y_train)\" to train your model"
      ],
      "metadata": {
        "id": "Ethnal1fo8VZ"
      },
      "execution_count": null,
      "outputs": []
    },
    {
      "cell_type": "code",
      "source": [
        "#Test it out!\n",
        "#use model.predict(<list of datapoints to predict on>) to make a prediction\n",
        "#alternatively, you could use model.score(x_test, y_test) to get an accuracy score"
      ],
      "metadata": {
        "id": "aIOMrHFupBH6"
      },
      "execution_count": null,
      "outputs": []
    }
  ]
}