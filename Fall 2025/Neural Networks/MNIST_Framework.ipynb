{
  "nbformat": 4,
  "nbformat_minor": 0,
  "metadata": {
    "colab": {
      "provenance": []
    },
    "kernelspec": {
      "name": "python3",
      "display_name": "Python 3"
    },
    "language_info": {
      "name": "python"
    }
  },
  "cells": [
    {
      "cell_type": "code",
      "execution_count": null,
      "metadata": {
        "id": "R_grhPRcqCfi"
      },
      "outputs": [],
      "source": [
        "import pandas as pd\n",
        "import numpy as np\n",
        "import tensorflow as tf\n",
        "from tensorflow.keras import layers\n",
        "import matplotlib.pyplot as plt"
      ]
    },
    {
      "cell_type": "markdown",
      "source": [
        "# Load the Data"
      ],
      "metadata": {
        "id": "LCvjmOGZs1yI"
      }
    },
    {
      "cell_type": "code",
      "source": [
        "(x_train, y_train), (x_test, y_test) = tf.keras.datasets.mnist.load_data()"
      ],
      "metadata": {
        "id": "U4kbhWbKqP1H"
      },
      "execution_count": null,
      "outputs": []
    },
    {
      "cell_type": "markdown",
      "source": [
        "# Look at an image"
      ],
      "metadata": {
        "id": "8bsHlXmss4lp"
      }
    },
    {
      "cell_type": "code",
      "source": [
        "plt.imshow(x_train[0], cmap = 'gray')"
      ],
      "metadata": {
        "id": "K1cqw2RVq1Wy"
      },
      "execution_count": null,
      "outputs": []
    },
    {
      "cell_type": "markdown",
      "source": [
        "# Build your model:\n",
        "\n",
        "model = *code to create tensorflow Sequential model*\n",
        "\n",
        "model.add( layers.Dense() )\n",
        "  - Specify how many neurons, and activation function. ex( model.Dense(3, activation = 'sigmoid') )\n",
        "\n",
        "model.add( layers.Flatten() )\n",
        "  - Flattens the image into one flat line\n",
        "\n",
        "After the model is created, you can do model.compile()\n",
        "  - Specify loss function, and optimizer\n",
        "  - ex. model.compile( loss = 'sparse_categorical_crossentropy', optimizer = 'adam', metrics = ['accuracy'] )\n",
        "\n",
        "\n"
      ],
      "metadata": {
        "id": "wJo8AAPkrJvk"
      }
    },
    {
      "cell_type": "code",
      "source": [
        "#define your model here. ie, \"model = <tensorflow syntax for sequential model>\""
      ],
      "metadata": {
        "id": "pYi7uC2urS_t"
      },
      "execution_count": null,
      "outputs": []
    },
    {
      "cell_type": "code",
      "source": [
        "#create your model here"
      ],
      "metadata": {
        "id": "V3HjFHA0sba5"
      },
      "execution_count": null,
      "outputs": []
    },
    {
      "cell_type": "markdown",
      "source": [
        "View your model in action"
      ],
      "metadata": {
        "id": "TnftblWJsyVs"
      }
    },
    {
      "cell_type": "code",
      "source": [
        "number_of_images = 5\n",
        "\n",
        "probabilities = model.predict(x_train[:number_of_images])\n",
        "predictions = np.argmax(probabilities, axis=1)\n",
        "for index in range(len(probabilities)):\n",
        "  plt.imshow(x_train[index], cmap='gray')\n",
        "  plt.show()\n",
        "  print(\"Prediction: \", predictions[index])"
      ],
      "metadata": {
        "id": "BTw7-Mv9seLF"
      },
      "execution_count": null,
      "outputs": []
    }
  ]
}