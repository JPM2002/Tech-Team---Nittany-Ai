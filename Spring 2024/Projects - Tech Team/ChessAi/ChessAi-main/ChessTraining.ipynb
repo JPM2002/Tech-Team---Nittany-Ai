{
  "nbformat": 4,
  "nbformat_minor": 0,
  "metadata": {
    "colab": {
      "provenance": []
    },
    "kernelspec": {
      "name": "python3",
      "display_name": "Python 3"
    },
    "language_info": {
      "name": "python"
    }
  },
  "cells": [
    {
      "cell_type": "code",
      "execution_count": null,
      "metadata": {
        "id": "wAMPWmj90HCs",
        "colab": {
          "base_uri": "https://localhost:8080/"
        },
        "outputId": "74fb7211-56b9-431a-be69-625c5a5d89b1"
      },
      "outputs": [
        {
          "output_type": "stream",
          "name": "stdout",
          "text": [
            "Requirement already satisfied: python-chess in /usr/local/lib/python3.10/dist-packages (1.999)\n",
            "Requirement already satisfied: chess<2,>=1 in /usr/local/lib/python3.10/dist-packages (from python-chess) (1.10.0)\n"
          ]
        }
      ],
      "source": [
        "!pip3 install python-chess"
      ]
    },
    {
      "cell_type": "code",
      "source": [
        "!pip install patool"
      ],
      "metadata": {
        "id": "vuomtaT7WltA"
      },
      "execution_count": null,
      "outputs": []
    },
    {
      "cell_type": "code",
      "source": [
        "import chess\n",
        "import chess.engine\n",
        "import numpy as np\n",
        "import tensorflow as tf\n",
        "from tensorflow.keras import layers\n",
        "import patoolib\n",
        "import pandas as pd\n",
        "from sklearn.model_selection import train_test_split"
      ],
      "metadata": {
        "id": "TSt6Z1YL0agU"
      },
      "execution_count": null,
      "outputs": []
    },
    {
      "cell_type": "code",
      "source": [
        "#example fen for testing\n",
        "fen = 'rnbqkbnr/pppppppp/8/8/4P3/8/PPPP1PPP/RNBQKBNR b KQkq - 0 1'"
      ],
      "metadata": {
        "id": "wDAXWgrM0idv"
      },
      "execution_count": null,
      "outputs": []
    },
    {
      "cell_type": "code",
      "source": [
        "'''\n",
        "Matric representation order: black, white:  king, queen, rook, knight, bishop, pawn\n",
        "'''\n",
        "def bitMap(fen):\n",
        "  board = chess.Board(fen)\n",
        "  orderMapping = {\n",
        "    'k': 0,\n",
        "    'K': 6,\n",
        "    'q': 1,\n",
        "    'Q': 7,\n",
        "    'r': 2,\n",
        "    'R': 8,\n",
        "    'n': 3,\n",
        "    'N': 9,\n",
        "    'b': 4,\n",
        "    'B': 10,\n",
        "    'p': 5,\n",
        "    'P': 11\n",
        "  }\n",
        "  material = {\n",
        "    'k': 0,\n",
        "    'K': 0,\n",
        "    'q': -9,\n",
        "    'Q': 9,\n",
        "    'r': -5,\n",
        "    'R': 5,\n",
        "    'n': -3,\n",
        "    'N': 3,\n",
        "    'b': -3,\n",
        "    'B': 3,\n",
        "    'p': -1,\n",
        "    'P': 1\n",
        "  }\n",
        "  alphabet = 'abcdefgh'\n",
        "  bitMap = np.zeros((14, 8, 8))\n",
        "  positions, turn, castlingRights, enPeasant, half1, half2 = fen.split(' ')\n",
        "  row, column = [0, 0]\n",
        "  whiteMaterial, blackMaterial = 0, 0\n",
        "  for letter in positions:\n",
        "    if letter.isnumeric():\n",
        "      column += int(letter)\n",
        "    elif letter == '/':\n",
        "      row += 1\n",
        "      column = 0\n",
        "    else:\n",
        "      peiceIndex = orderMapping[letter]\n",
        "      if letter.isupper():\n",
        "        bitMap[peiceIndex, row, column] = 1\n",
        "      else:\n",
        "        bitMap[peiceIndex, row, column] = -1\n",
        "      if letter.isupper():\n",
        "        whiteMaterial += material[letter]\n",
        "      else:\n",
        "        blackMaterial += material[letter]\n",
        "      column += 1\n",
        "\n",
        "  #showing the model the possible squares we can move to, which is known to help the model a lot\n",
        "  first, second = 12, 13\n",
        "  if not board.turn:\n",
        "    first, second = 13, 12\n",
        "\n",
        "  for move in board.legal_moves:\n",
        "    column = alphabet.index(str(move)[2])\n",
        "    row = int(str(move)[3]) - 1\n",
        "    bitMap[first, row, column] = 1\n",
        "  board.turn = not board.turn #looking at the possible moves for the person whos turn its not\n",
        "\n",
        "  for move in board.legal_moves:\n",
        "    column = alphabet.index(str(move)[2])\n",
        "    row = int(str(move)[3]) - 1\n",
        "    bitMap[second, row, column] = 1\n",
        "  #since we originally placed the pieces by defining rank 0 as the eigth index, we have to flip this list to stay in accordance to the definition\n",
        "  bitMap[12] = bitMap[12][::-1]\n",
        "  bitMap[13] = bitMap[13][::-1]\n",
        "  return bitMap, whiteMaterial, blackMaterial\n",
        "\n",
        "\n",
        "#trying a different board representation to see if it performs better (after testing, it does. The current model uses this function as opposed to bitMap(fen).)\n",
        "def compressedBitMap(fen):\n",
        "  board = chess.Board(fen)\n",
        "  orderMapping = {\n",
        "    'k': 0,\n",
        "    'K': 0,\n",
        "    'q': 1,\n",
        "    'Q': 1,\n",
        "    'r': 2,\n",
        "    'R': 2,\n",
        "    'n': 3,\n",
        "    'N': 3,\n",
        "    'b': 4,\n",
        "    'B': 4,\n",
        "    'p': 5,\n",
        "    'P': 5\n",
        "  }\n",
        "  material = {\n",
        "    'k': 0,\n",
        "    'K': 0,\n",
        "    'q': -9,\n",
        "    'Q': 9,\n",
        "    'r': -5,\n",
        "    'R': 5,\n",
        "    'n': -3,\n",
        "    'N': 3,\n",
        "    'b': -3,\n",
        "    'B': 3,\n",
        "    'p': -1,\n",
        "    'P': 1\n",
        "  }\n",
        "  alphabet = 'abcdefgh'\n",
        "  bitMap = np.zeros((8, 8, 8))\n",
        "  positions, turn, castlingRights, enPeasant, half1, half2 = fen.split(' ')\n",
        "  row, column = [0, 0]\n",
        "  whiteMaterial, blackMaterial = 0, 0\n",
        "  for letter in positions:\n",
        "    if letter.isnumeric():\n",
        "      column += int(letter)\n",
        "    elif letter == '/':\n",
        "      row += 1\n",
        "      column = 0\n",
        "    else:\n",
        "      peiceIndex = orderMapping[letter]\n",
        "      if letter.isupper():\n",
        "        bitMap[peiceIndex, row, column] = 1\n",
        "      else:\n",
        "        bitMap[peiceIndex, row, column] = -1\n",
        "      if letter.isupper():\n",
        "        whiteMaterial += material[letter]\n",
        "      else:\n",
        "        blackMaterial += material[letter]\n",
        "      column += 1\n",
        "\n",
        "  #showing the model the possible squares we can move to, which is known to help the model a lot\n",
        "  first, second = 6, 7\n",
        "  if not board.turn:\n",
        "    first, second = 7, 6\n",
        "\n",
        "  for move in board.legal_moves:\n",
        "    column = alphabet.index(str(move)[2])\n",
        "    row = int(str(move)[3]) - 1\n",
        "    bitMap[first, row, column] = 1\n",
        "  board.turn = not board.turn #looking at the possible moves for the person whos turn its not\n",
        "\n",
        "  for move in board.legal_moves:\n",
        "    column = alphabet.index(str(move)[2])\n",
        "    row = int(str(move)[3]) - 1\n",
        "    bitMap[second, row, column] = 1\n",
        "  #since we originally placed the pieces by defining rank 0 as the eigth index, we have to flip this list to stay in accordance to the definition\n",
        "  bitMap[6] = bitMap[6][::-1]\n",
        "  bitMap[7] = bitMap[7][::-1]\n",
        "  return bitMap, whiteMaterial, blackMaterial"
      ],
      "metadata": {
        "id": "t_1ivFfoQV_5"
      },
      "execution_count": null,
      "outputs": []
    },
    {
      "cell_type": "markdown",
      "source": [
        "Building the dataset"
      ],
      "metadata": {
        "id": "L_gkH2s_W0Nj"
      }
    },
    {
      "cell_type": "code",
      "source": [
        "patoolib.extract_archive('ChessEvals.zip')\n",
        "dataframe = pd.read_csv('ChessEvals/chessData.csv')"
      ],
      "metadata": {
        "colab": {
          "base_uri": "https://localhost:8080/"
        },
        "id": "rp-ISI0oWzs3",
        "outputId": "3a01115a-bebe-4553-e0f0-fc7fbbd8e249"
      },
      "execution_count": null,
      "outputs": [
        {
          "output_type": "stream",
          "name": "stderr",
          "text": [
            "INFO patool: Extracting ChessEvals.zip ...\n",
            "INFO:patool:Extracting ChessEvals.zip ...\n",
            "INFO patool: running /usr/bin/7z x -o./Unpack_xrp8mdcg -- ChessEvals.zip\n",
            "INFO:patool:running /usr/bin/7z x -o./Unpack_xrp8mdcg -- ChessEvals.zip\n",
            "INFO patool:     with input=''\n",
            "INFO:patool:    with input=''\n",
            "INFO patool: ... ChessEvals.zip extracted to `ChessEvals2' (multiple files in root).\n",
            "INFO:patool:... ChessEvals.zip extracted to `ChessEvals2' (multiple files in root).\n"
          ]
        }
      ]
    },
    {
      "cell_type": "code",
      "source": [
        "def createTraining(amount, df):\n",
        "  x = []\n",
        "  y = []\n",
        "  for index in df.index[:amount]:\n",
        "    row = df.iloc[index]\n",
        "    map, whiteMats, blackMats = compressedBitMap(row['FEN'])\n",
        "    matsDiff = whiteMats + blackMats\n",
        "    evalString = row['Evaluation']\n",
        "    if '#' in evalString:\n",
        "      try:\n",
        "        eval = int(evalString[1:])\n",
        "      except:\n",
        "        continue\n",
        "    else:\n",
        "      try:\n",
        "        eval = int(evalString)\n",
        "      except:\n",
        "        continue\n",
        "    evalAdjusted = (eval / 100) + matsDiff\n",
        "    x.append(map)\n",
        "    y.append(evalAdjusted)\n",
        "  x = np.array(x)\n",
        "  x = np.reshape(x, (x.shape[0], 1, 8, 8, 8))\n",
        "  y = np.array(y)\n",
        "  y = np.reshape(y, (x.shape[0],))\n",
        "  return x, y"
      ],
      "metadata": {
        "id": "PlvegsImYXdZ"
      },
      "execution_count": null,
      "outputs": []
    },
    {
      "cell_type": "markdown",
      "source": [
        "Building the model"
      ],
      "metadata": {
        "id": "1XMaT8ZnJ_4S"
      }
    },
    {
      "cell_type": "code",
      "source": [
        "model = tf.keras.models.Sequential()\n",
        "\n",
        "model.add( layers.Input(shape=(1, 8, 8, 8)) )\n",
        "model.add( layers.Conv2D(48, kernel_size = 3, activation = 'relu', padding = 'same',input_shape = (1, 8, 8, 8)) )\n",
        "model.add( layers.BatchNormalization() )\n",
        "model.add( layers.Conv2D(48, kernel_size = 3, activation = 'relu', padding = 'same') )\n",
        "model.add( layers.BatchNormalization() )\n",
        "model.add( layers.Conv2D(32, kernel_size = 3, activation = 'relu', padding = 'same') )\n",
        "model.add( layers.BatchNormalization() )\n",
        "\n",
        "model.add( layers.Flatten() )\n",
        "model.add( layers.Dense(32, activation = 'relu') )\n",
        "model.add( layers.Dense(32, activation = 'relu') )\n",
        "model.add( layers.Dense(1) )\n",
        "\n",
        "model.summary()"
      ],
      "metadata": {
        "colab": {
          "base_uri": "https://localhost:8080/"
        },
        "id": "JYGjesaMJ_R4",
        "outputId": "bd8496bb-4f40-46cc-85b9-a7688ca0883a"
      },
      "execution_count": null,
      "outputs": [
        {
          "output_type": "stream",
          "name": "stdout",
          "text": [
            "Model: \"sequential\"\n",
            "_________________________________________________________________\n",
            " Layer (type)                Output Shape              Param #   \n",
            "=================================================================\n",
            " conv2d (Conv2D)             (None, 1, 8, 8, 48)       3504      \n",
            "                                                                 \n",
            " batch_normalization (Batch  (None, 1, 8, 8, 48)       192       \n",
            " Normalization)                                                  \n",
            "                                                                 \n",
            " conv2d_1 (Conv2D)           (None, 1, 8, 8, 48)       20784     \n",
            "                                                                 \n",
            " batch_normalization_1 (Bat  (None, 1, 8, 8, 48)       192       \n",
            " chNormalization)                                                \n",
            "                                                                 \n",
            " conv2d_2 (Conv2D)           (None, 1, 8, 8, 32)       13856     \n",
            "                                                                 \n",
            " batch_normalization_2 (Bat  (None, 1, 8, 8, 32)       128       \n",
            " chNormalization)                                                \n",
            "                                                                 \n",
            " flatten (Flatten)           (None, 2048)              0         \n",
            "                                                                 \n",
            " dense (Dense)               (None, 32)                65568     \n",
            "                                                                 \n",
            " dense_1 (Dense)             (None, 32)                1056      \n",
            "                                                                 \n",
            " dense_2 (Dense)             (None, 1)                 33        \n",
            "                                                                 \n",
            "=================================================================\n",
            "Total params: 105313 (411.38 KB)\n",
            "Trainable params: 105057 (410.38 KB)\n",
            "Non-trainable params: 256 (1.00 KB)\n",
            "_________________________________________________________________\n"
          ]
        }
      ]
    },
    {
      "cell_type": "code",
      "source": [
        "x, y = createTraining(200000, dataframe)\n",
        "model.compile(optimizer = 'adam',\n",
        "              loss = 'mse',\n",
        "              metrics = ['mse'])\n",
        "model.fit(x, y, epochs = 50, batch_size= 512)\n",
        "'''\n",
        "The model is currently overfitting a litte. If I were to come back to this, I would increase the training examples and decrease the number of epochs. I may also play with the number of\n",
        "trainable parameters in the model to see if it is a limiting factor/causing the model to overfit.\n",
        "'''"
      ],
      "metadata": {
        "colab": {
          "base_uri": "https://localhost:8080/"
        },
        "id": "If1lRgisVzEG",
        "outputId": "5682cb8f-4ace-46cb-b298-010e5a86c939"
      },
      "execution_count": null,
      "outputs": [
        {
          "output_type": "stream",
          "name": "stdout",
          "text": [
            "Epoch 1/50\n",
            "391/391 [==============================] - 167s 416ms/step - loss: 33.3315 - mse: 33.3315\n",
            "Epoch 2/50\n",
            "391/391 [==============================] - 146s 373ms/step - loss: 24.0097 - mse: 24.0097\n",
            "Epoch 3/50\n",
            "391/391 [==============================] - 110s 282ms/step - loss: 18.3817 - mse: 18.3817\n",
            "Epoch 4/50\n",
            "391/391 [==============================] - 110s 281ms/step - loss: 14.6151 - mse: 14.6151\n",
            "Epoch 5/50\n",
            "391/391 [==============================] - 108s 277ms/step - loss: 12.2304 - mse: 12.2304\n",
            "Epoch 6/50\n",
            "391/391 [==============================] - 110s 281ms/step - loss: 10.4442 - mse: 10.4442\n",
            "Epoch 7/50\n",
            "391/391 [==============================] - 160s 410ms/step - loss: 9.1851 - mse: 9.1851\n",
            "Epoch 8/50\n",
            "391/391 [==============================] - 159s 407ms/step - loss: 7.9884 - mse: 7.9884\n",
            "Epoch 9/50\n",
            "391/391 [==============================] - 120s 306ms/step - loss: 7.1587 - mse: 7.1587\n",
            "Epoch 10/50\n",
            "391/391 [==============================] - 109s 279ms/step - loss: 6.7625 - mse: 6.7625\n",
            "Epoch 11/50\n",
            "391/391 [==============================] - 109s 280ms/step - loss: 6.1233 - mse: 6.1233\n",
            "Epoch 12/50\n",
            "391/391 [==============================] - 108s 277ms/step - loss: 5.7142 - mse: 5.7142\n",
            "Epoch 13/50\n",
            "391/391 [==============================] - 124s 317ms/step - loss: 5.3722 - mse: 5.3722\n",
            "Epoch 14/50\n",
            "391/391 [==============================] - 158s 403ms/step - loss: 5.2922 - mse: 5.2922\n",
            "Epoch 15/50\n",
            "391/391 [==============================] - 156s 400ms/step - loss: 4.8853 - mse: 4.8853\n",
            "Epoch 16/50\n",
            "391/391 [==============================] - 108s 276ms/step - loss: 4.5468 - mse: 4.5468\n",
            "Epoch 17/50\n",
            "391/391 [==============================] - 109s 279ms/step - loss: 4.5407 - mse: 4.5407\n",
            "Epoch 18/50\n",
            "391/391 [==============================] - 109s 278ms/step - loss: 4.3224 - mse: 4.3224\n",
            "Epoch 19/50\n",
            "391/391 [==============================] - 109s 278ms/step - loss: 4.0650 - mse: 4.0650\n",
            "Epoch 20/50\n",
            "391/391 [==============================] - 150s 383ms/step - loss: 4.0233 - mse: 4.0233\n",
            "Epoch 21/50\n",
            "391/391 [==============================] - 158s 403ms/step - loss: 4.0238 - mse: 4.0238\n",
            "Epoch 22/50\n",
            "391/391 [==============================] - 132s 337ms/step - loss: 3.7464 - mse: 3.7464\n",
            "Epoch 23/50\n",
            "391/391 [==============================] - 107s 274ms/step - loss: 3.7480 - mse: 3.7480\n",
            "Epoch 24/50\n",
            "391/391 [==============================] - 109s 279ms/step - loss: 3.2265 - mse: 3.2265\n",
            "Epoch 25/50\n",
            "391/391 [==============================] - 108s 276ms/step - loss: 3.2392 - mse: 3.2392\n",
            "Epoch 26/50\n",
            "391/391 [==============================] - 128s 326ms/step - loss: 3.2886 - mse: 3.2886\n",
            "Epoch 27/50\n",
            "391/391 [==============================] - 156s 399ms/step - loss: 3.3614 - mse: 3.3614\n",
            "Epoch 28/50\n",
            "391/391 [==============================] - 153s 391ms/step - loss: 3.4694 - mse: 3.4694\n",
            "Epoch 29/50\n",
            "391/391 [==============================] - 108s 276ms/step - loss: 3.4076 - mse: 3.4076\n",
            "Epoch 30/50\n",
            "391/391 [==============================] - 109s 279ms/step - loss: 3.2871 - mse: 3.2871\n",
            "Epoch 31/50\n",
            "391/391 [==============================] - 107s 274ms/step - loss: 2.9460 - mse: 2.9460\n",
            "Epoch 32/50\n",
            "391/391 [==============================] - 137s 351ms/step - loss: 2.7372 - mse: 2.7372\n",
            "Epoch 33/50\n",
            "391/391 [==============================] - 158s 404ms/step - loss: 2.7624 - mse: 2.7624\n",
            "Epoch 34/50\n",
            "391/391 [==============================] - 145s 371ms/step - loss: 2.6579 - mse: 2.6579\n",
            "Epoch 35/50\n",
            "391/391 [==============================] - 116s 296ms/step - loss: 2.6960 - mse: 2.6960\n",
            "Epoch 36/50\n",
            "391/391 [==============================] - 116s 297ms/step - loss: 2.6058 - mse: 2.6058\n",
            "Epoch 37/50\n",
            "391/391 [==============================] - 127s 325ms/step - loss: 2.5977 - mse: 2.5977\n",
            "Epoch 38/50\n",
            "391/391 [==============================] - 170s 434ms/step - loss: 2.4394 - mse: 2.4394\n",
            "Epoch 39/50\n",
            "391/391 [==============================] - 171s 438ms/step - loss: 2.5049 - mse: 2.5049\n",
            "Epoch 40/50\n",
            "391/391 [==============================] - 119s 305ms/step - loss: 2.3237 - mse: 2.3237\n",
            "Epoch 41/50\n",
            "391/391 [==============================] - 115s 295ms/step - loss: 2.3554 - mse: 2.3554\n",
            "Epoch 42/50\n",
            "391/391 [==============================] - 133s 339ms/step - loss: 2.8749 - mse: 2.8749\n",
            "Epoch 43/50\n",
            "391/391 [==============================] - 168s 429ms/step - loss: 2.8932 - mse: 2.8932\n",
            "Epoch 44/50\n",
            "391/391 [==============================] - 162s 414ms/step - loss: 2.7985 - mse: 2.7985\n",
            "Epoch 45/50\n",
            "391/391 [==============================] - 114s 292ms/step - loss: 2.4239 - mse: 2.4239\n",
            "Epoch 46/50\n",
            "391/391 [==============================] - 110s 282ms/step - loss: 2.0383 - mse: 2.0383\n",
            "Epoch 47/50\n",
            "391/391 [==============================] - 135s 346ms/step - loss: 1.9807 - mse: 1.9807\n",
            "Epoch 48/50\n",
            "391/391 [==============================] - 161s 413ms/step - loss: 1.9852 - mse: 1.9852\n",
            "Epoch 49/50\n",
            "391/391 [==============================] - 157s 401ms/step - loss: 1.8208 - mse: 1.8208\n",
            "Epoch 50/50\n",
            "391/391 [==============================] - 113s 288ms/step - loss: 1.9799 - mse: 1.9799\n"
          ]
        },
        {
          "output_type": "execute_result",
          "data": {
            "text/plain": [
              "<keras.src.callbacks.History at 0x7e4f0c7e12d0>"
            ]
          },
          "metadata": {},
          "execution_count": 11
        }
      ]
    },
    {
      "cell_type": "code",
      "source": [
        "from google.colab import drive\n",
        "drive.mount('/content/drive')"
      ],
      "metadata": {
        "colab": {
          "base_uri": "https://localhost:8080/"
        },
        "id": "ZQUGh1WZrHLH",
        "outputId": "23295cc8-44dc-4bc7-d004-1f17858800cd"
      },
      "execution_count": null,
      "outputs": [
        {
          "output_type": "stream",
          "name": "stdout",
          "text": [
            "Mounted at /content/drive\n"
          ]
        }
      ]
    },
    {
      "cell_type": "code",
      "source": [
        "model.save('/content/Chess.h5')"
      ],
      "metadata": {
        "id": "azr-ef-6rQok"
      },
      "execution_count": null,
      "outputs": []
    }
  ]
}